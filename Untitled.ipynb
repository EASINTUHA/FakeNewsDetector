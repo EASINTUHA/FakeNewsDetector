{
 "cells": [
  {
   "cell_type": "code",
   "execution_count": 3,
   "id": "ade9b6d3-ebfd-41fa-bea7-75cb0d497f8e",
   "metadata": {},
   "outputs": [
    {
     "name": "stdout",
     "output_type": "stream",
     "text": [
      "### Installed Dependency Versions\n",
      "pandas: 2.2.3\n",
      "numpy: 2.1.3\n",
      "nltk: 3.9.1\n",
      "scikit-learn: 1.6.1\n",
      "imbalanced-learn: 0.13.0\n",
      "xgboost: 3.0.0\n",
      "transformers: 4.51.3\n",
      "torch: 2.7.0+cpu\n",
      "scipy: 1.15.2\n",
      "seaborn: 0.13.2\n",
      "matplotlib: 3.10.1\n"
     ]
    }
   ],
   "source": [
    "import pandas as pd\n",
    "import numpy as np\n",
    "import re\n",
    "import nltk\n",
    "from nltk.corpus import stopwords\n",
    "from nltk.stem import WordNetLemmatizer\n",
    "from sklearn.feature_extraction.text import TfidfVectorizer\n",
    "from sklearn.model_selection import train_test_split\n",
    "from sklearn.metrics import accuracy_score, classification_report, confusion_matrix\n",
    "from sklearn.linear_model import LogisticRegression\n",
    "from imblearn.over_sampling import SMOTE\n",
    "from xgboost import XGBClassifier\n",
    "from transformers import BertTokenizer, BertForSequenceClassification\n",
    "import torch\n",
    "import seaborn as sns\n",
    "import matplotlib  # Import matplotlib directly for version\n",
    "import matplotlib.pyplot as plt\n",
    "import pickle\n",
    "import logging\n",
    "from scipy.sparse import hstack\n",
    "import scipy\n",
    "import sklearn\n",
    "import imblearn\n",
    "import xgboost\n",
    "import transformers\n",
    "\n",
    "# Display dependency versions\n",
    "print(\"### Installed Dependency Versions\")\n",
    "print(f\"pandas: {pd.__version__}\")\n",
    "print(f\"numpy: {np.__version__}\")\n",
    "print(f\"nltk: {nltk.__version__}\")\n",
    "print(f\"scikit-learn: {sklearn.__version__}\")\n",
    "print(f\"imbalanced-learn: {imblearn.__version__}\")\n",
    "print(f\"xgboost: {xgboost.__version__}\")\n",
    "print(f\"transformers: {transformers.__version__}\")\n",
    "print(f\"torch: {torch.__version__}\")\n",
    "print(f\"scipy: {scipy.__version__}\")\n",
    "print(f\"seaborn: {sns.__version__}\")\n",
    "print(f\"matplotlib: {matplotlib.__version__}\")  # Use matplotlib.__version__ instead of plt.__version__\n",
    "\n",
    "# Rest of your script..."
   ]
  },
  {
   "cell_type": "code",
   "execution_count": null,
   "id": "ed7a3ada-ab64-4be3-9422-903c32f39abd",
   "metadata": {},
   "outputs": [],
   "source": []
  }
 ],
 "metadata": {
  "kernelspec": {
   "display_name": "Python 3 (ipykernel)",
   "language": "python",
   "name": "python3"
  },
  "language_info": {
   "codemirror_mode": {
    "name": "ipython",
    "version": 3
   },
   "file_extension": ".py",
   "mimetype": "text/x-python",
   "name": "python",
   "nbconvert_exporter": "python",
   "pygments_lexer": "ipython3",
   "version": "3.12.9"
  }
 },
 "nbformat": 4,
 "nbformat_minor": 5
}
